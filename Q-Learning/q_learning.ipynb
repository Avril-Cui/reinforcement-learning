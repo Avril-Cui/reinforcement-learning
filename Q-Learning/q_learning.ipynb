{
 "cells": [
  {
   "cell_type": "markdown",
   "metadata": {},
   "source": [
    "### Reward\n",
    "1. Agent receive +20 successful dropoff\n",
    "2. Agent get -10 penalty for illegal pick-up and drop-off locations\n",
    "3. Sligh negative for not making to the destination after each time-step\n",
    "    - Agent get -1 point for each step it takes"
   ]
  },
  {
   "cell_type": "markdown",
   "metadata": {},
   "source": [
    "### Action Space\n",
    "Size 6. Set of all actions that agent can take in a given state:\n",
    "\n",
    "South (0), North(1), East(2), West(3), Pickup(4), Dropoff(5)"
   ]
  },
  {
   "cell_type": "markdown",
   "metadata": {},
   "source": [
    "### States\n",
    "Four locations (RGYB); pick on passenger at one locaion and drop him off at another. Straight lines are walls. Size 500\n",
    "- Blue: current passenger pick-up location\n",
    "- Purple: current destination\n",
    "- Filled square: taxi\n",
    "    - Yellow: without passenger\n",
    "    - Green: with passenger"
   ]
  },
  {
   "cell_type": "code",
   "execution_count": 87,
   "metadata": {},
   "outputs": [
    {
     "name": "stdout",
     "output_type": "stream",
     "text": [
      "+---------+\n",
      "|R: | : :\u001b[35mG\u001b[0m|\n",
      "| : | : : |\n",
      "| : : : : |\n",
      "| | : | : |\n",
      "|Y| : |\u001b[34;1mB\u001b[0m:\u001b[43m \u001b[0m|\n",
      "+---------+\n",
      "\n",
      "\n",
      "Action Space Discrete(6)\n",
      "State Space Discrete(500)\n"
     ]
    }
   ],
   "source": [
    "import gym\n",
    "\n",
    "# env: unified environment interface\n",
    "env = gym.make(\"Taxi-v3\",render_mode='ansi').env\n",
    "env.reset() # reset environment to a new, random state\n",
    "\n",
    "r = env.render() # renders one frame of env\n",
    "print(r)\n",
    "print(\"Action Space {}\".format(env.action_space)) # six actions\n",
    "print(\"State Space {}\".format(env.observation_space)) # 500 possible states"
   ]
  },
  {
   "cell_type": "code",
   "execution_count": 92,
   "metadata": {},
   "outputs": [
    {
     "name": "stdout",
     "output_type": "stream",
     "text": [
      "State: 328\n"
     ]
    },
    {
     "data": {
      "text/plain": [
       "{0: [(1.0, 428, -1, False)],\n",
       " 1: [(1.0, 228, -1, False)],\n",
       " 2: [(1.0, 348, -1, False)],\n",
       " 3: [(1.0, 328, -1, False)],\n",
       " 4: [(1.0, 328, -10, False)],\n",
       " 5: [(1.0, 328, -10, False)]}"
      ]
     },
     "execution_count": 92,
     "metadata": {},
     "output_type": "execute_result"
    }
   ],
   "source": [
    "# encode a state\n",
    "# (taxi row, taxi column, passenger index, destination index)\n",
    "state = env.encode(3,1,2,0) # \n",
    "print(\"State:\", state)\n",
    "\n",
    "# reward table\n",
    "# {action: [(probability, nextstate, reward, done)]}\n",
    "# here, probability is always 1.0, meaning if an action is taken, only one possible next state\n",
    "env.P[328]"
   ]
  },
  {
   "cell_type": "markdown",
   "metadata": {},
   "source": [
    "### Brute Force Approach"
   ]
  },
  {
   "cell_type": "code",
   "execution_count": 103,
   "metadata": {},
   "outputs": [
    {
     "name": "stdout",
     "output_type": "stream",
     "text": [
      "Timesteps taken: 659\n",
      "Penalties incurred: 228\n"
     ]
    }
   ],
   "source": [
    "env.s = 328\n",
    "epochs = 0\n",
    "penalties, reward = 0,0\n",
    "frames = [] # for animation\n",
    "done = False\n",
    "\n",
    "while not done:\n",
    "    action = env.action_space.sample()\n",
    "    state, reward, done, truncated, info = env.step(action)\n",
    "\n",
    "    if reward == -10:\n",
    "        penalties += 1\n",
    "\n",
    "    frames.append({\n",
    "        'frame': env.render(),\n",
    "        'state': state,\n",
    "        'action': action,\n",
    "        'reward': reward\n",
    "    })\n",
    "\n",
    "    epochs += 1\n",
    "\n",
    "print(\"Timesteps taken: {}\".format(epochs))\n",
    "print(\"Penalties incurred: {}\".format(penalties))"
   ]
  },
  {
   "cell_type": "code",
   "execution_count": 106,
   "metadata": {},
   "outputs": [
    {
     "name": "stdout",
     "output_type": "stream",
     "text": [
      "+---------+\n",
      "|R: | : :\u001b[35m\u001b[34;1m\u001b[43mG\u001b[0m\u001b[0m\u001b[0m|\n",
      "| : | : : |\n",
      "| : : : : |\n",
      "| | : | : |\n",
      "|Y| : |B: |\n",
      "+---------+\n",
      "  (Dropoff)\n",
      "\n",
      "Timestep: 659\n",
      "State: 85\n",
      "Action: 5\n",
      "Reward: 20\n"
     ]
    }
   ],
   "source": [
    "from IPython.display import clear_output\n",
    "from time import sleep\n",
    "\n",
    "def print_frames(frames):\n",
    "    for i, frame in enumerate(frames):\n",
    "        clear_output(wait=True)\n",
    "        print(frame['frame'])\n",
    "        print(f\"Timestep: {i + 1}\")\n",
    "        print(f\"State: {frame['state']}\")\n",
    "        print(f\"Action: {frame['action']}\")\n",
    "        print(f\"Reward: {frame['reward']}\")\n",
    "        sleep(.1)\n",
    "\n",
    "print_frames(frames)"
   ]
  },
  {
   "cell_type": "markdown",
   "metadata": {},
   "source": [
    "### Q-Learning\n",
    "- Agent uses env's rewards to learn the best actions to take in a given state\n",
    "- Looking at reward for taking an action in the current state, then update Q-value to remember if that action was benefitial\n",
    "- Values stored in Q-table, map to a (state, action) combination\n",
    "- Q-value referent \"quality\" of an action\n",
    "    - Higher Q-value, higher chance of getting greater rewards\n",
    "-"
   ]
  },
  {
   "cell_type": "code",
   "execution_count": null,
   "metadata": {},
   "outputs": [
    {
     "name": "stdout",
     "output_type": "stream",
     "text": [
      "Episode: 99900\n",
      "Training finished.\n",
      "\n"
     ]
    }
   ],
   "source": [
    "import numpy as np\n",
    "import random\n",
    "# initialize Q-table\n",
    "q_table = np.zeros([env.observation_space.n, env.action_space.n])\n",
    "\n",
    "# start training\n",
    "alpha = 0.1\n",
    "gamma = 0.6\n",
    "epsilon = 0.1\n",
    "\n",
    "# for plotting metrics\n",
    "all_epochs = []\n",
    "all_penalties = []\n",
    "\n",
    "for i in range(1, 100000):\n",
    "    state = env.reset()[0]\n",
    "    epochs, penalities, reward, = 0,0,0\n",
    "    done = False\n",
    "\n",
    "    while not done:\n",
    "        if random.uniform(0,1) < epsilon:\n",
    "            # with epsilon probability, explore action space\n",
    "            action = env.action_space.sample()\n",
    "        else:\n",
    "            # exploit learned values\n",
    "            action = np.argmax(q_table[state]) # gives index (action) with max value\n",
    "        \n",
    "        next_state, reward, done, truncated, info = env.step(action)\n",
    "        old_value = q_table[state, action]\n",
    "        next_max = np.max(q_table[next_state])\n",
    "\n",
    "        new_value = (1-alpha)*old_value + alpha*(reward+gamma*next_max)\n",
    "        q_table[state, action] = new_value\n",
    "\n",
    "        if reward == -10:\n",
    "            penalities += 1\n",
    "        \n",
    "        state = next_state\n",
    "        epochs += 1\n",
    "    \n",
    "    if i % 100 == 0:\n",
    "        clear_output(wait=True)\n",
    "        print(f\"Episode: {i}\")\n",
    "\n",
    "print(\"Training finished.\\n\")\n",
    "            "
   ]
  },
  {
   "cell_type": "code",
   "execution_count": 172,
   "metadata": {},
   "outputs": [
    {
     "name": "stdout",
     "output_type": "stream",
     "text": [
      "Results after 100 episodes:\n",
      "Average timesteps per episode: 12.96\n",
      "Average penalties per episode: 0.0\n"
     ]
    }
   ],
   "source": [
    "# Q-learning agent performance evaluation\n",
    "total_epochs, total_penalties = 0,0\n",
    "episodes = 100\n",
    "\n",
    "for _ in range(episodes):\n",
    "    state = env.reset()[0]\n",
    "    epochs, penalities, reward = 0,0,0\n",
    "\n",
    "    done = False\n",
    "\n",
    "    while not done:\n",
    "        action = np.argmax(q_table[state])\n",
    "        state, reward, done, truncated, info = env.step(action)\n",
    "\n",
    "        if reward == -10:\n",
    "            penalties += 1\n",
    "        \n",
    "        epochs += 1\n",
    "    \n",
    "    total_penalties += penalties\n",
    "    total_epochs += epochs\n",
    "\n",
    "print(f\"Results after {episodes} episodes:\")\n",
    "print(f\"Average timesteps per episode: {total_epochs / episodes}\")\n",
    "print(f\"Average penalties per episode: {total_penalties / episodes}\")"
   ]
  },
  {
   "cell_type": "markdown",
   "metadata": {},
   "source": [
    "Compared to brute force:\n",
    "\n",
    "Timesteps taken: 659; Penalties incurred: 228\n",
    "\n",
    "RL model: Shorter path, less mistakes, higher average rewards per move"
   ]
  },
  {
   "cell_type": "markdown",
   "metadata": {},
   "source": [
    "### Hyperparameters\n",
    "$\\alpha$: should decrease as knowledge base is larger\\\n",
    "$\\gamma$: preference for near term reward should increase (increase gamma) as agent gets closer to the deadline\\\n",
    "$\\epsilon$: as trials increase, strategy is more developed, so more exploitation than exploration, $\\epsilon$ should decrease over time\n",
    "\n",
    "Can use GENETIC ALGORITHMS to get the right combination of hyperparameter values"
   ]
  },
  {
   "cell_type": "markdown",
   "metadata": {},
   "source": [
    "### Q-Table\n",
    "With large number of states in the environment, Q-table size will grow very large. Need deep neural networks to store information instead."
   ]
  },
  {
   "cell_type": "markdown",
   "metadata": {},
   "source": [
    "https://openai.com/index/universe/"
   ]
  }
 ],
 "metadata": {
  "kernelspec": {
   "display_name": "Python 3",
   "language": "python",
   "name": "python3"
  },
  "language_info": {
   "codemirror_mode": {
    "name": "ipython",
    "version": 3
   },
   "file_extension": ".py",
   "mimetype": "text/x-python",
   "name": "python",
   "nbconvert_exporter": "python",
   "pygments_lexer": "ipython3",
   "version": "3.11.2"
  }
 },
 "nbformat": 4,
 "nbformat_minor": 2
}
